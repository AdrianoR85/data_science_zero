{
 "cells": [
  {
   "cell_type": "markdown",
   "id": "1f529992-bd61-4f85-abe3-f21124c9d9aa",
   "metadata": {},
   "source": [
    "## Centralidade de Grau"
   ]
  },
  {
   "cell_type": "code",
   "execution_count": 48,
   "id": "9f094419-64bb-464b-a2b6-c31d4c6f95e9",
   "metadata": {},
   "outputs": [
    {
     "name": "stdout",
     "output_type": "stream",
     "text": [
      "Total de conexões: 24\n",
      "Média de conexões por pessoas: 2.4\n",
      "Pessoas com maior quantidade de amigos:\n",
      "Dunn: 3\n",
      "Sue: 3\n",
      "Chi: 3\n",
      "Clive: 3\n",
      "Kate: 3\n",
      "Hero: 2\n",
      "Thor: 2\n",
      "Hicks: 2\n",
      "Devin: 2\n",
      "Klein: 1\n"
     ]
    }
   ],
   "source": [
    "users = [\n",
    "    { \"id\": 0, \"name\": \"Hero\" },\n",
    "    { \"id\": 1, \"name\": \"Dunn\" },\n",
    "    { \"id\": 2, \"name\": \"Sue\" },\n",
    "    { \"id\": 3, \"name\": \"Chi\" },\n",
    "    { \"id\": 4, \"name\": \"Thor\" },\n",
    "    { \"id\": 5, \"name\": \"Clive\" },\n",
    "    { \"id\": 6, \"name\": \"Hicks\" },\n",
    "    { \"id\": 7, \"name\": \"Devin\" },\n",
    "    { \"id\": 8, \"name\": \"Kate\" },\n",
    "    { \"id\": 9, \"name\": \"Klein\" }\n",
    "]\n",
    "\n",
    "friendships = {user[\"id\"]: [] for user in users }\n",
    "friendships\n",
    "\n",
    "friendship_pairs = [(0, 1), (0, 2), (1, 2), (1, 3), (2, 3), (3, 4),\n",
    "                    (4, 5), (5, 6), (5, 7), (6, 8), (7, 8), (8, 9)]\n",
    "\n",
    "for i, j in friendship_pairs:\n",
    "    friendships[i].append(j) \n",
    "    friendships[j].append(i)\n",
    "\n",
    "def number_of_friends(user):\n",
    "    user_id = user['id']\n",
    "    friend_ids = friendships[user_id]\n",
    "    return len(friend_ids)\n",
    "\n",
    "total_connections = sum(number_of_friends(user) for user in users)\n",
    "print(f\"Total de conexões: {total_connections}\")\n",
    "\n",
    "# Qual é o número médio de conexões?\n",
    "num_users = len(users)\n",
    "avg_connections = total_connections / num_users\n",
    "print(f\"Média de conexões por pessoas: {avg_connections}\")\n",
    "\n",
    "# Qual a pessoa mais conectada?\n",
    "num_friends_by_id = [(user[\"id\"], number_of_friends(user)) for user in users]\n",
    "num_friends_by_id.sort(key=lambda id_and_friends: id_and_friends[1], reverse=True)\n",
    "print(f\"Pessoas com maior quantidade de amigos:\")\n",
    "for i, v in num_friends_by_id:\n",
    "    print(f\"{users[i]['name']}: {v}\")"
   ]
  }
 ],
 "metadata": {
  "kernelspec": {
   "display_name": "Python 3 (ipykernel)",
   "language": "python",
   "name": "python3"
  },
  "language_info": {
   "codemirror_mode": {
    "name": "ipython",
    "version": 3
   },
   "file_extension": ".py",
   "mimetype": "text/x-python",
   "name": "python",
   "nbconvert_exporter": "python",
   "pygments_lexer": "ipython3",
   "version": "3.9.23"
  }
 },
 "nbformat": 4,
 "nbformat_minor": 5
}
