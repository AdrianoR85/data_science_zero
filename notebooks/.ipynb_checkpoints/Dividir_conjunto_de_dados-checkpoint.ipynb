{
 "cells": [
  {
   "cell_type": "code",
   "execution_count": 22,
   "id": "e44f70f2-0eda-4d1d-9f2e-9f44521f718b",
   "metadata": {},
   "outputs": [],
   "source": [
    "import random\n",
    "from typing import TypeVar, List, Tuple\n",
    "\n",
    "x = TypeVar('x')\n",
    "\n",
    "def split_data(data: List[x], prob: float) -> Tuple[List[x], List[x]]:\n",
    "    # divida os dados em frações [prob, 1 - prob]\n",
    "    data = data[:]                 # Faça um cópia superficial\n",
    "    random.shuffle(data)           # porque o shuffle modifica a lista.\n",
    "    cut = int(len(data) * prob)    # Use prob para encontra um limitador\n",
    "    return data[:cut], data[cut:]  # e divida a lista aleatoria nesse ponto.\n",
    "\n",
    "data = [n for n in range(1000)]\n",
    "train, test =  split_data(data, 0.75)\n",
    "\n",
    "assert len(train) == 750\n",
    "assert len(test) == 250\n",
    "\n",
    "assert sorted(train + test) == data"
   ]
  },
  {
   "cell_type": "code",
   "execution_count": 33,
   "id": "41020d3c-9b59-4252-b323-8062140e790c",
   "metadata": {},
   "outputs": [],
   "source": [
    "y = TypeVar('y') \n",
    "\n",
    "def train_test_split(xs: List[x], ys:List[y], test_pct: float) -> Tuple[ List[x], List[x], List[y], List[y] ]:\n",
    "    # Gere e divida os indices\n",
    "    idxs = [i for i in range(len(xs))]\n",
    "    train_idxs, test_idxs = split_data(idxs, 1 - test_pct)\n",
    "\n",
    "    return ([xs[i] for i in train_idxs],\n",
    "           [xs[i] for i in test_idxs],\n",
    "           [ys[i] for i in train_idxs],\n",
    "           [ys[i] for i in test_idxs])\n",
    "\n",
    "xs = [x for x in range(1000)]\n",
    "ys = [2 * x for x in xs]\n",
    "x_train, x_test, y_train, y_test = train_test_split(xs, ys, 0.25)\n",
    "\n",
    "assert len(x_train) == len(y_train) == 750\n",
    "assert len(x_test) == len(y_test) == 250\n"
   ]
  },
  {
   "cell_type": "code",
   "execution_count": 37,
   "id": "4a3fe7b6-6f19-49c0-97af-dbf361abddf3",
   "metadata": {},
   "outputs": [],
   "source": [
    "# Verifique se os pontos de ddods correspondentes estão emparelhados corretamente.\n",
    "assert all( y==2 * x for x,  y in zip(x_train, y_train) )\n",
    "assert all( y==2 * x for x,  y in zip(x_test, y_test) )"
   ]
  },
  {
   "cell_type": "code",
   "execution_count": null,
   "id": "1fccecf9-5ddc-4c08-92b2-f72876651fbc",
   "metadata": {},
   "outputs": [],
   "source": []
  }
 ],
 "metadata": {
  "kernelspec": {
   "display_name": "Python 3 (ipykernel)",
   "language": "python",
   "name": "python3"
  },
  "language_info": {
   "codemirror_mode": {
    "name": "ipython",
    "version": 3
   },
   "file_extension": ".py",
   "mimetype": "text/x-python",
   "name": "python",
   "nbconvert_exporter": "python",
   "pygments_lexer": "ipython3",
   "version": "3.9.23"
  }
 },
 "nbformat": 4,
 "nbformat_minor": 5
}
