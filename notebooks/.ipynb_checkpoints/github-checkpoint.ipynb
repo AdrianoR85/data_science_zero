{
 "cells": [
  {
   "cell_type": "code",
   "execution_count": 2,
   "id": "7fd40c70-5ec8-44c8-95f9-02f35858e6d0",
   "metadata": {},
   "outputs": [],
   "source": [
    "import requests, json\n",
    "\n",
    "def get_users(git_user, relation_type, token=None):\n",
    "    if relation_type.lower() not in [\"followers\", \"following\"]:\n",
    "        raise ValueError(\"relation_type deve ser 'followers' ou 'following\")\n",
    "    users = []\n",
    "    page = 1\n",
    "    headers = {}\n",
    "\n",
    "    if token:\n",
    "        headers[\"Authorization\"] = f\"token {token}\"\n",
    "\n",
    "    while True:\n",
    "        url = f\"https://api.github.com/users/{git_user}/{relation_type}?page={page}&per_page=100\"\n",
    "        response = requests.get(url, headers=headers)\n",
    "        \n",
    "        if response.status_code != 200:\n",
    "            print(f\"Error: {relation_type}: {response.status_code}\")\n",
    "            break\n",
    "        \n",
    "        data = response.json()\n",
    "        if not data:\n",
    "            break\n",
    "            \n",
    "        users.extend(data)\n",
    "        page +=1\n",
    "        \n",
    "    return [user[\"login\"] for user in users]\n",
    "    "
   ]
  },
  {
   "cell_type": "code",
   "execution_count": 88,
   "id": "37b03b3a-90c2-40fc-9784-6f84c559345f",
   "metadata": {},
   "outputs": [],
   "source": [
    "def unfollow_users(token, users_to_unfollow):\n",
    "    headers = {\n",
    "        \"Authorization\": f\"token {token}\",\n",
    "        \"Accept\": \"application/vnd.github.v3+json\"\n",
    "    }\n",
    "\n",
    "    for username in users_to_unfollow:\n",
    "        print(username)\n",
    "        url = f\"https://api.github.com/user/following/{username}\"\n",
    "        response = requests.delete(url, headers=headers)\n",
    "\n",
    "        if response.status_code == 204:\n",
    "            print(f\"✅ Deixou de seguir: {username}\")\n",
    "        else:\n",
    "            print(f\"❌ Erro ao deixar de seguir {username}: {response.status_code} - {response.text}\")"
   ]
  },
  {
   "cell_type": "code",
   "execution_count": 7,
   "id": "b5fc20cc-b7d0-4fd2-91eb-8628ad8d2adb",
   "metadata": {},
   "outputs": [],
   "source": [
    "def follow_users(token, users_to_follow):\n",
    "    headers = {\n",
    "        \"Authorization\": f\"token {token}\",\n",
    "        \"Accept\": \"application/vnd.github.v3+json\"\n",
    "    }\n",
    "\n",
    "    for username in users_to_follow:\n",
    "        url = f\"https://api.github.com/user/following/{username}\"\n",
    "        response = requests.put(url, headers=headers)\n",
    "\n",
    "        if response.status_code == 204:\n",
    "            print(f\"✅ Agora você está seguindo: {username}\")\n",
    "        elif response.status_code == 404:\n",
    "            print(f\"❌ Usuário {username} não encontrado.\")\n",
    "        else:\n",
    "            print(f\"⚠️  Erro ao seguir {username}: {response.status_code} - {response.text}\")"
   ]
  },
  {
   "cell_type": "code",
   "execution_count": null,
   "id": "178fc342-0e76-45ae-82b6-4367543e2429",
   "metadata": {},
   "outputs": [],
   "source": [
    "my_token=\"your token here\"\n",
    "\n",
    "followers = get_users(\"<username>\", \"followers\", my_token)\n",
    "followings = get_users(\"<username>\", \"following\", my_token)\n",
    "\n",
    "users_to_follow = [user for user in followers if user not in followings]\n",
    "users_to_unfollow = [user for user in followings if user not in followers]\n",
    "\n",
    "users_to_follow"
   ]
  },
  {
   "cell_type": "code",
   "execution_count": null,
   "id": "7c0d0298-a5c9-4e99-8a1a-8bb58d40d39a",
   "metadata": {},
   "outputs": [],
   "source": [
    "follow_users(my_token, users_to_follow)"
   ]
  },
  {
   "cell_type": "code",
   "execution_count": null,
   "id": "a572ce0a-aaf2-4e04-bc10-6f1c2062ae21",
   "metadata": {},
   "outputs": [],
   "source": []
  }
 ],
 "metadata": {
  "kernelspec": {
   "display_name": "Python 3 (ipykernel)",
   "language": "python",
   "name": "python3"
  },
  "language_info": {
   "codemirror_mode": {
    "name": "ipython",
    "version": 3
   },
   "file_extension": ".py",
   "mimetype": "text/x-python",
   "name": "python",
   "nbconvert_exporter": "python",
   "pygments_lexer": "ipython3",
   "version": "3.9.23"
  }
 },
 "nbformat": 4,
 "nbformat_minor": 5
}
