{
 "cells": [
  {
   "cell_type": "code",
   "execution_count": 28,
   "id": "e42eb713-c803-4f39-a1c1-69782d1b8925",
   "metadata": {},
   "outputs": [],
   "source": [
    "with open('email_address.txt', 'w') as f:\n",
    "    f.write(\"joelgrus@gmail.com\\n\")\n",
    "    f.write(\"joel@m.datasciencester.com\\n\")\n",
    "    f.write(\"joelgrus@m.datasciencester.com\\n\")"
   ]
  },
  {
   "cell_type": "code",
   "execution_count": 33,
   "id": "d9787083-2ccf-4a05-a0b9-5b061ab34fb2",
   "metadata": {},
   "outputs": [
    {
     "name": "stdout",
     "output_type": "stream",
     "text": [
      "Counter({'m.datasciencester.com': 2, 'gmail.com': 1})\n"
     ]
    }
   ],
   "source": [
    "def get_domain(email_address: str) -> str:\n",
    "    return email_address.lower().split(\"@\")[-1]\n",
    "\n",
    "assert get_domain(\"joelgrus@gmail.com\") == \"gmail.com\"\n",
    "assert get_domain(\"joelgrus@m.datasciencester.com\") == \"m.datasciencester.com\"\n",
    "\n",
    "from collections import Counter\n",
    "with open(\"email_address.txt\", \"r\") as f:\n",
    "    domain_count = Counter(get_domain(line.strip())\n",
    "                          for line in f\n",
    "                          if \"@\" in line\n",
    "                          )\n",
    "print(domain_count)"
   ]
  },
  {
   "cell_type": "code",
   "execution_count": null,
   "id": "2e98387b-9b3a-4d49-828d-9bb8cef486bc",
   "metadata": {},
   "outputs": [],
   "source": []
  },
  {
   "cell_type": "code",
   "execution_count": null,
   "id": "5cff8e12-967d-4b92-a750-ad374ccb32b9",
   "metadata": {},
   "outputs": [],
   "source": []
  }
 ],
 "metadata": {
  "kernelspec": {
   "display_name": "Python 3 (ipykernel)",
   "language": "python",
   "name": "python3"
  },
  "language_info": {
   "codemirror_mode": {
    "name": "ipython",
    "version": 3
   },
   "file_extension": ".py",
   "mimetype": "text/x-python",
   "name": "python",
   "nbconvert_exporter": "python",
   "pygments_lexer": "ipython3",
   "version": "3.9.23"
  }
 },
 "nbformat": 4,
 "nbformat_minor": 5
}
